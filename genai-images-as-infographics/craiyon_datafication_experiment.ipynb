{
  "nbformat": 4,
  "nbformat_minor": 0,
  "metadata": {
    "colab": {
      "provenance": []
    },
    "kernelspec": {
      "name": "python3",
      "display_name": "Python 3"
    },
    "language_info": {
      "name": "python"
    }
  },
  "cells": [
    {
      "cell_type": "code",
      "source": [
        "!rm -r all_images"
      ],
      "metadata": {
        "id": "Gyn_xMYQDXSB"
      },
      "execution_count": 60,
      "outputs": []
    },
    {
      "cell_type": "markdown",
      "source": [
        "# Experiment\n",
        "\n",
        "If we generate say 100 images with https://www.craiyon.com/ and use the same prompt each time - a prompt related to canadian history - and we try the 'datafication of a kiss' approach, what can we see? The idea is to treat the generated images as an infographic of the underlying dataset.\n",
        "\n",
        "Go to craiyon; use the same prompt 11 times. Take a screenshot of the results each time (the image grid that Craiyon returns). Rename your screenshots 1, 2, 3, 4, 5 etc. Drag and drop the screenshots into the file tray here. Then, run the code below to slice each screenshot into its constituent sub images.\n",
        "\n",
        "Continue with pixplot. The final cell should run pixplot in this notebook, but if the loading screen says 'NaN', stop the cell and just download the zipped output to your own machine. Assuming you have python installed, in a terminal run\n",
        "\n",
        "```python -m http.server 5000```\n",
        "\n",
        "then go to localhost:5000 in a browser on your machine. Examine this 'infographic'. What seems to define a cluster? What does this tell you about the underlying 'understanding' of the concept?\n",
        "\n",
        "![](https://i.imgur.com/BWYnDJt.png)\n",
        "\n",
        "_'The Battle of Vimy Ridge', according to Craiyon_"
      ],
      "metadata": {
        "id": "R0TupZp6EmqR"
      }
    },
    {
      "source": [
        "## for use with Craiyon generated images\n",
        "\n",
        "import os\n",
        "import numpy as np\n",
        "from PIL import Image\n",
        "\n",
        "def slice_image(image_path, output_dir):\n",
        "    \"\"\"\n",
        "    Loads an image, slices it into a 3x3 grid, removes the alpha layer,\n",
        "    and saves the subimages as JPG.\n",
        "\n",
        "    Args:\n",
        "        image_path: Path to the input image.\n",
        "        output_dir: Directory to save the subimages.\n",
        "    \"\"\"\n",
        "    try:\n",
        "        # Open the image using Pillow library\n",
        "        img = Image.open(image_path).convert(\"RGB\")  # Convert to RGB to remove alpha\n",
        "        # Get image dimensions\n",
        "        width, height = img.size\n",
        "\n",
        "        # Calculate slice dimensions\n",
        "        slice_width = width // 3\n",
        "        slice_height = height // 3\n",
        "\n",
        "        # Slice the image into 9 subimages\n",
        "        for i in range(3):\n",
        "            for j in range(3):\n",
        "                # Define bounding box for the subimage\n",
        "                left = j * slice_width\n",
        "                upper = i * slice_height\n",
        "                right = (j + 1) * slice_width\n",
        "                lower = (i + 1) * slice_height\n",
        "\n",
        "                # Crop the subimage\n",
        "                subimage = img.crop((left, upper, right, lower))\n",
        "\n",
        "                # Save the subimage as JPG\n",
        "                filename, ext = os.path.splitext(os.path.basename(image_path))\n",
        "                output_path = os.path.join(output_dir, f\"{filename}_{i}_{j}.jpg\")  # Changed extension to .jpg\n",
        "                subimage.save(output_path)\n",
        "\n",
        "    except Exception as e:\n",
        "        print(f\"Error processing {image_path}: {e}\")\n",
        "# --- Main execution ---\n",
        "input_dir = \"input\"  # Replace with your input directory\n",
        "output_dir = \"all_images\"\n",
        "\n",
        "# Create the output directory if it doesn't exist\n",
        "os.makedirs(output_dir, exist_ok=True)\n",
        "\n",
        "# Process all PNG files in the input directory\n",
        "for filename in os.listdir(input_dir):\n",
        "    if filename.endswith(\".png\"):\n",
        "        image_path = os.path.join(input_dir, filename)\n",
        "        slice_image(image_path, output_dir)\n",
        "\n",
        "print(\"Processing complete. Subimages saved to 'all_images' directory.\")"
      ],
      "cell_type": "code",
      "metadata": {
        "colab": {
          "base_uri": "https://localhost:8080/"
        },
        "id": "0xq2eGau4sC1",
        "outputId": "9ee3a4a7-6a0e-44be-dbb9-4be63de43d64"
      },
      "execution_count": 61,
      "outputs": [
        {
          "output_type": "stream",
          "name": "stdout",
          "text": [
            "Processing complete. Subimages saved to 'all_images' directory.\n"
          ]
        }
      ]
    },
    {
      "cell_type": "code",
      "source": [
        "\n",
        "# for use with\n",
        "# https://perchance.org/ai-text-to-image-generator\n",
        "# generated images (select 'casual photography', 6 photos, portrait)\n",
        "# if you generate more than 6, just make sure to adjust the num_columns and num_rows below\n",
        "import os\n",
        "from PIL import Image\n",
        "\n",
        "def slice_image2(image_path, output_dir):\n",
        "    # Load the image\n",
        "    img = Image.open(image_path).convert(\"RGB\")\n",
        "\n",
        "    # Determine the size of each individual photo\n",
        "    img_width, img_height = img.size\n",
        "    num_columns = 3\n",
        "    num_rows = 2\n",
        "    single_width = img_width // num_columns\n",
        "    single_height = img_height // num_rows\n",
        "\n",
        "    # Crop and save each individual photo\n",
        "    output_paths = []\n",
        "    for row in range(num_rows):\n",
        "        for col in range(num_columns):\n",
        "            left = col * single_width\n",
        "            upper = row * single_height\n",
        "            right = left + single_width\n",
        "            lower = upper + single_height\n",
        "            cropped_img = img.crop((left, upper, right, lower))\n",
        "\n",
        "            # Construct output path and save each cropped image\n",
        "            output_path = os.path.join(output_dir, f'{os.path.splitext(os.path.basename(image_path))[0]}_cropped_{row * num_columns + col + 1}.png')\n",
        "            cropped_img.save(output_path)\n",
        "            output_paths.append(output_path)\n",
        "\n",
        "    return output_paths\n",
        "\n",
        "# --- Main execution ---\n",
        "input_dir = \"input\"  # Replace with your input directory\n",
        "output_dir = \"all_images\"\n",
        "\n",
        "# Create the output directory if it doesn't exist\n",
        "os.makedirs(output_dir, exist_ok=True)\n",
        "\n",
        "# Process all PNG files in the input directory\n",
        "for filename in os.listdir(input_dir):\n",
        "    if filename.endswith(\".png\"):\n",
        "        image_path = os.path.join(input_dir, filename)\n",
        "        slice_image2(image_path, output_dir)\n",
        "\n",
        "print(\"Processing complete. Subimages saved to 'all_images' directory.\")\n"
      ],
      "metadata": {
        "colab": {
          "base_uri": "https://localhost:8080/"
        },
        "id": "s1kFiEdxHwjH",
        "outputId": "2287ae69-5a15-4da6-a605-1265f32b9e77"
      },
      "execution_count": 84,
      "outputs": [
        {
          "output_type": "stream",
          "name": "stdout",
          "text": [
            "Processing complete. Subimages saved to 'all_images' directory.\n"
          ]
        }
      ]
    },
    {
      "cell_type": "code",
      "source": [
        "!pip install -q condacolab\n",
        "import condacolab\n",
        "\n",
        "condacolab.install()"
      ],
      "metadata": {
        "colab": {
          "base_uri": "https://localhost:8080/"
        },
        "id": "0BWGZvBM9GaQ",
        "outputId": "d3b9e4cf-703b-450a-ed2c-693916e44f19"
      },
      "execution_count": 14,
      "outputs": [
        {
          "output_type": "stream",
          "name": "stdout",
          "text": [
            "⏬ Downloading https://github.com/conda-forge/miniforge/releases/download/23.11.0-0/Mambaforge-23.11.0-0-Linux-x86_64.sh...\n",
            "📦 Installing...\n",
            "📌 Adjusting configuration...\n",
            "🩹 Patching environment...\n",
            "⏲ Done in 0:00:16\n",
            "🔁 Restarting kernel...\n"
          ]
        }
      ]
    },
    {
      "cell_type": "code",
      "source": [
        "%%capture\n",
        "!conda create -n pixplot_test python=3.7"
      ],
      "metadata": {
        "id": "6EqQVNqt9Mlo"
      },
      "execution_count": null,
      "outputs": []
    },
    {
      "cell_type": "code",
      "source": [
        "#activate pixplot_test\n",
        "!source activate pixplot_test; python --version; pip -V; pip install https://github.com/yaledhlab/pix-plot/archive/master.zip\n",
        "!source activate pixplot_test; pip install ipykernel"
      ],
      "metadata": {
        "id": "lKTrFJj39NIP"
      },
      "execution_count": null,
      "outputs": []
    },
    {
      "cell_type": "code",
      "source": [
        "# make sure you're in the content directory\n",
        "%pwd"
      ],
      "metadata": {
        "id": "r9QRe3XpMr6u"
      },
      "execution_count": null,
      "outputs": []
    },
    {
      "cell_type": "code",
      "source": [
        "!source activate pixplot_test; pixplot --images \"all_images/*\""
      ],
      "metadata": {
        "colab": {
          "base_uri": "https://localhost:8080/"
        },
        "id": "EvqQ0Uxe9bMb",
        "outputId": "e4eb5e25-2dce-42cc-f650-eb1d5cce1b07"
      },
      "execution_count": 89,
      "outputs": [
        {
          "output_type": "stream",
          "name": "stdout",
          "text": [
            "2024-11-15 19:00:18.955804: W tensorflow/stream_executor/platform/default/dso_loader.cc:64] Could not load dynamic library 'libcudart.so.11.0'; dlerror: libcudart.so.11.0: cannot open shared object file: No such file or directory; LD_LIBRARY_PATH: /usr/local/lib:/usr/local/nvidia/lib:/usr/local/nvidia/lib64\n",
            "2024-11-15 19:00:18.955854: I tensorflow/stream_executor/cuda/cudart_stub.cc:29] Ignore above cudart dlerror if you do not have a GPU set up on your machine.\n",
            "2024-11-15 19:00:21.078330: HDBSCAN not available; using sklearn KMeans\n",
            "2024-11-15 19:00:28.583497: CUML not available; using umap-learn UMAP\n",
            "2024-11-15 19:00:28.584328: I tensorflow/core/platform/cpu_feature_guard.cc:142] This TensorFlow binary is optimized with oneAPI Deep Neural Network Library (oneDNN) to use the following CPU instructions in performance-critical operations:  AVX2 FMA\n",
            "To enable them in other operations, rebuild TensorFlow with the appropriate compiler flags.\n",
            "2024-11-15 19:00:28.584894: W tensorflow/stream_executor/platform/default/dso_loader.cc:64] Could not load dynamic library 'libcuda.so.1'; dlerror: libcuda.so.1: cannot open shared object file: No such file or directory; LD_LIBRARY_PATH: /usr/local/lib:/usr/local/nvidia/lib:/usr/local/nvidia/lib64\n",
            "2024-11-15 19:00:28.584927: W tensorflow/stream_executor/cuda/cuda_driver.cc:326] failed call to cuInit: UNKNOWN ERROR (303)\n",
            "2024-11-15 19:00:28.584959: I tensorflow/stream_executor/cuda/cuda_diagnostics.cc:156] kernel driver does not appear to be running on this host (d7657c1c0e22): /proc/driver/nvidia/version does not exist\n",
            "2024-11-15 19:00:28.585165: I tensorflow/core/common_runtime/direct_session.cc:361] Device mapping: no known devices.\n",
            "2024-11-15 19:00:29.931877: Creating atlas files\n",
            "2024-11-15 19:00:31.568017: Creating Inception vectors for 75 images\n",
            "2024-11-15 19:00:34.430130: Creating image array\n",
            "100% 75/75 [00:00<00:00, 1488.69it/s]\n",
            "2024-11-15 19:00:34.501637: Creating single umap layout\n",
            "2024-11-15 19:00:44.448862: Creating umap pointgrid\n",
            "2024-11-15 19:00:44.547941: Creating grid layout\n",
            "2024-11-15 19:00:44.550442: Creating rasterfairy layout\n",
            "no good rectangle found for 75 points, using incomplete square 8 * 10\n",
            "2024-11-15 19:00:47.522503: Clustering data with kmeans\n",
            "2024-11-15 19:00:47.757011: Found 10 hotspots\n",
            "2024-11-15 19:00:49.431972: Done!\n"
          ]
        }
      ]
    },
    {
      "cell_type": "code",
      "source": [
        "#make sure you're in content\n",
        "%pwd\n",
        "#%cd content #change directory if necessary"
      ],
      "metadata": {
        "colab": {
          "base_uri": "https://localhost:8080/"
        },
        "id": "rIIihCevM3ql",
        "outputId": "607f42e8-d4c6-46c0-afce-345f6742ec3e"
      },
      "execution_count": 95,
      "outputs": [
        {
          "output_type": "stream",
          "name": "stdout",
          "text": [
            "/content\n"
          ]
        }
      ]
    },
    {
      "cell_type": "code",
      "source": [
        "\n",
        "!zip -r test.zip output\n",
        "\n",
        "## then download it; unzip it\n",
        "## and assuming you have python installed, in a terminal run\n",
        "## python -m http.server 5000\n",
        "## then go to localhost:5000 in a browser on your machine"
      ],
      "metadata": {
        "id": "onxfIPY3C251"
      },
      "execution_count": null,
      "outputs": []
    },
    {
      "cell_type": "code",
      "source": [
        "# for reasons I can't figure out yet\n",
        "# running pixplot from colab\n",
        "# which used to work\n",
        "# is failing at one crucial spot here, not loading a piece - check the log for 404 error\n",
        "# but if you zip it up and do it locally, not a problem\n",
        "\n",
        "from google.colab import output\n",
        "output.serve_kernel_port_as_iframe(5000)\n",
        "%cd output\n",
        "!python -m http.server 5000\n"
      ],
      "metadata": {
        "colab": {
          "base_uri": "https://localhost:8080/",
          "height": 1000
        },
        "id": "rGS7f_gJEO42",
        "outputId": "765c002f-0437-4ee6-dd25-17be9815cf85"
      },
      "execution_count": 97,
      "outputs": [
        {
          "output_type": "display_data",
          "data": {
            "text/plain": [
              "<IPython.core.display.Javascript object>"
            ],
            "application/javascript": [
              "(async (port, path, width, height, cache, element) => {\n",
              "    if (!google.colab.kernel.accessAllowed && !cache) {\n",
              "      return;\n",
              "    }\n",
              "    element.appendChild(document.createTextNode(''));\n",
              "    const url = await google.colab.kernel.proxyPort(port, {cache});\n",
              "    const iframe = document.createElement('iframe');\n",
              "    iframe.src = new URL(path, url).toString();\n",
              "    iframe.height = height;\n",
              "    iframe.width = width;\n",
              "    iframe.style.border = 0;\n",
              "    iframe.allow = [\n",
              "        'accelerometer',\n",
              "        'autoplay',\n",
              "        'camera',\n",
              "        'clipboard-read',\n",
              "        'clipboard-write',\n",
              "        'gyroscope',\n",
              "        'magnetometer',\n",
              "        'microphone',\n",
              "        'serial',\n",
              "        'usb',\n",
              "        'xr-spatial-tracking',\n",
              "    ].join('; ');\n",
              "    element.appendChild(iframe);\n",
              "  })(5000, \"/\", \"100%\", \"400\", false, window.element)"
            ]
          },
          "metadata": {}
        },
        {
          "output_type": "stream",
          "name": "stdout",
          "text": [
            "/content/output\n",
            "Serving HTTP on 0.0.0.0 port 5000 (http://0.0.0.0:5000/) ...\n",
            "127.0.0.1 - - [15/Nov/2024 19:01:46] \"GET / HTTP/1.1\" 200 -\n",
            "127.0.0.1 - - [15/Nov/2024 19:01:47] \"GET /assets/css/no-ui-slider.css HTTP/1.1\" 200 -\n",
            "127.0.0.1 - - [15/Nov/2024 19:01:47] \"GET /assets/css/style.css HTTP/1.1\" 200 -\n",
            "127.0.0.1 - - [15/Nov/2024 19:01:47] \"GET /assets/images/icons/custom-layout.svg HTTP/1.1\" 200 -\n",
            "127.0.0.1 - - [15/Nov/2024 19:01:47] \"GET /assets/images/dhlab-logo.svg HTTP/1.1\" 200 -\n",
            "127.0.0.1 - - [15/Nov/2024 19:01:47] \"GET /assets/vendor/src/fly-controls.js HTTP/1.1\" 200 -\n",
            "127.0.0.1 - - [15/Nov/2024 19:01:47] \"GET /assets/vendor/dist/lodash.min.js HTTP/1.1\" 200 -\n",
            "127.0.0.1 - - [15/Nov/2024 19:01:47] \"GET /assets/vendor/dist/three.min.js HTTP/1.1\" 200 -\n",
            "127.0.0.1 - - [15/Nov/2024 19:01:47] \"GET /assets/vendor/dist/stats.min.js HTTP/1.1\" 200 -\n",
            "127.0.0.1 - - [15/Nov/2024 19:01:48] \"GET /assets/vendor/dist/gunzip.min.js HTTP/1.1\" 200 -\n",
            "127.0.0.1 - - [15/Nov/2024 19:01:48] \"GET /assets/images/icons/az-layout.svg HTTP/1.1\" 200 -\n",
            "127.0.0.1 - - [15/Nov/2024 19:01:48] \"GET /assets/images/icons/pan.svg HTTP/1.1\" 200 -\n",
            "127.0.0.1 - - [15/Nov/2024 19:01:48] \"GET /assets/js/object-assign-polyfill.js HTTP/1.1\" 200 -\n",
            "127.0.0.1 - - [15/Nov/2024 19:01:48] \"GET /assets/vendor/dist/jszip.min.js HTTP/1.1\" 200 -\n",
            "127.0.0.1 - - [15/Nov/2024 19:01:48] \"GET /assets/vendor/dist/gsap.min.js HTTP/1.1\" 200 -\n",
            "127.0.0.1 - - [15/Nov/2024 19:01:48] \"GET /assets/vendor/dist/d3.min.js HTTP/1.1\" 200 -\n",
            "127.0.0.1 - - [15/Nov/2024 19:01:48] \"GET /assets/images/icons/scatter-layout.svg HTTP/1.1\" 200 -\n",
            "127.0.0.1 - - [15/Nov/2024 19:01:49] \"GET /assets/images/icons/geographic-layout.svg HTTP/1.1\" 200 -\n",
            "127.0.0.1 - - [15/Nov/2024 19:01:49] \"GET /assets/images/icons/search-icon.svg HTTP/1.1\" 200 -\n",
            "127.0.0.1 - - [15/Nov/2024 19:01:49] \"GET /assets/images/icons/grid-layout.svg HTTP/1.1\" 200 -\n",
            "127.0.0.1 - - [15/Nov/2024 19:01:49] \"GET /assets/js/tsne.js HTTP/1.1\" 200 -\n",
            "127.0.0.1 - - [15/Nov/2024 19:01:49] \"GET /assets/images/icons/gear-icon.svg HTTP/1.1\" 200 -\n",
            "127.0.0.1 - - [15/Nov/2024 19:01:49] \"GET /assets/vendor/src/trackball-controls.js HTTP/1.1\" 200 -\n",
            "127.0.0.1 - - [15/Nov/2024 19:01:50] \"GET /assets/vendor/dist/papaparse.min.js HTTP/1.1\" 200 -\n",
            "127.0.0.1 - - [15/Nov/2024 19:01:50] \"GET /assets/images/icons/lasso.png HTTP/1.1\" 200 -\n",
            "127.0.0.1 - - [15/Nov/2024 19:01:50] \"GET /assets/images/icons/date-layout.svg HTTP/1.1\" 200 -\n",
            "127.0.0.1 - - [15/Nov/2024 19:01:50] \"GET /assets/images/icons/pinch-icon.svg HTTP/1.1\" 200 -\n",
            "127.0.0.1 - - [15/Nov/2024 19:01:50] \"GET /assets/images/icons/categorical-layout.svg HTTP/1.1\" 200 -\n",
            "127.0.0.1 - - [15/Nov/2024 19:01:50] \"GET /assets/vendor/dist/no-ui-slider.min.js HTTP/1.1\" 200 -\n",
            "127.0.0.1 - - [15/Nov/2024 19:01:51] \"GET /assets/images/heightmap.jpg HTTP/1.1\" 200 -\n",
            "127.0.0.1 - - [15/Nov/2024 19:01:51] \"GET /data/manifest.json HTTP/1.1\" 200 -\n",
            "127.0.0.1 - - [15/Nov/2024 19:01:51] \"GET /data/imagelists/imagelist-e13385f2-a383-11ef-b238-0242ac1c000c.json HTTP/1.1\" 200 -\n",
            "127.0.0.1 - - [15/Nov/2024 19:01:52] \"GET /data/atlases/e13385f2-a383-11ef-b238-0242ac1c000c/atlas-0.jpg HTTP/1.1\" 200 -\n",
            "127.0.0.1 - - [15/Nov/2024 19:01:52] \"GET /data/layouts/umap-e13385f2-a383-11ef-b238-0242ac1c000c.json HTTP/1.1\" 200 -\n",
            "127.0.0.1 - - [15/Nov/2024 19:01:52] code 404, message File not found\n",
            "127.0.0.1 - - [15/Nov/2024 19:01:52] \"GET /data/hotspots/user_hotspots.json HTTP/1.1\" 404 -\n",
            "127.0.0.1 - - [15/Nov/2024 19:01:53] \"GET /data/hotspots/hotspot-e13385f2-a383-11ef-b238-0242ac1c000c.json HTTP/1.1\" 200 -\n",
            "127.0.0.1 - - [15/Nov/2024 19:01:53] \"GET /data/thumbs/cas8_cropped_4.png HTTP/1.1\" 200 -\n",
            "127.0.0.1 - - [15/Nov/2024 19:01:53] \"GET /data/thumbs/cas7_cropped_5.png HTTP/1.1\" 200 -\n",
            "127.0.0.1 - - [15/Nov/2024 19:01:53] \"GET /data/thumbs/cas8_cropped_3.png HTTP/1.1\" 200 -\n",
            "127.0.0.1 - - [15/Nov/2024 19:01:54] \"GET /data/thumbs/cas4_cropped_1.png HTTP/1.1\" 200 -\n",
            "127.0.0.1 - - [15/Nov/2024 19:01:54] \"GET /data/thumbs/cas8_cropped_6.png HTTP/1.1\" 200 -\n",
            "127.0.0.1 - - [15/Nov/2024 19:01:54] \"GET /data/thumbs/cas5_cropped_4.png HTTP/1.1\" 200 -\n",
            "127.0.0.1 - - [15/Nov/2024 19:01:54] \"GET /data/thumbs/cas8_cropped_2.png HTTP/1.1\" 200 -\n",
            "127.0.0.1 - - [15/Nov/2024 19:01:54] \"GET /data/thumbs/cas3_cropped_6.png HTTP/1.1\" 200 -\n",
            "127.0.0.1 - - [15/Nov/2024 19:01:54] \"GET /data/thumbs/cas8_cropped_5.png HTTP/1.1\" 200 -\n",
            "127.0.0.1 - - [15/Nov/2024 19:01:54] \"GET /data/thumbs/cas6_cropped_1.png HTTP/1.1\" 200 -\n",
            "\n",
            "Keyboard interrupt received, exiting.\n"
          ]
        }
      ]
    }
  ]
}